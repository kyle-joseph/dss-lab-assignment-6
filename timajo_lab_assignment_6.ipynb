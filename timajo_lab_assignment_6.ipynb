{
 "cells": [
  {
   "cell_type": "markdown",
   "metadata": {},
   "source": [
    "# **Laboratory Assignment 6**"
   ]
  },
  {
   "cell_type": "code",
   "execution_count": 220,
   "metadata": {},
   "outputs": [],
   "source": [
    "import pandas as pd\n",
    "import numpy as np"
   ]
  },
  {
   "cell_type": "markdown",
   "metadata": {},
   "source": [
    "## 1. Load the above dataset locally"
   ]
  },
  {
   "cell_type": "code",
   "execution_count": 221,
   "metadata": {},
   "outputs": [],
   "source": [
    "water_quality_dataset = pd.read_csv('waterQuality1.csv', index_col=False)"
   ]
  },
  {
   "cell_type": "code",
   "execution_count": 222,
   "metadata": {},
   "outputs": [],
   "source": [
    "#Remove all rows with '#NUM!' value\n",
    "for col in water_quality_dataset.index:\n",
    "  if water_quality_dataset.loc[col, \"ammonia\"] == \"#NUM!\" or water_quality_dataset.loc[col, \"is_safe\"] == \"#NUM!\":\n",
    "    water_quality_dataset.drop(col, inplace = True)"
   ]
  },
  {
   "cell_type": "code",
   "execution_count": 223,
   "metadata": {},
   "outputs": [],
   "source": [
    "#convert ammonia and is_safe to numeric data type\n",
    "water_quality_dataset['ammonia'] = pd.to_numeric(water_quality_dataset['ammonia'])\n",
    "water_quality_dataset['is_safe'] = pd.to_numeric(water_quality_dataset['is_safe'])"
   ]
  },
  {
   "cell_type": "markdown",
   "metadata": {},
   "source": [
    "## 2. Establish your X and Y matrices."
   ]
  },
  {
   "cell_type": "code",
   "execution_count": 224,
   "metadata": {},
   "outputs": [],
   "source": [
    "x = water_quality_dataset.drop('is_safe', axis=1)\n",
    "y = water_quality_dataset['is_safe']"
   ]
  },
  {
   "cell_type": "code",
   "execution_count": 225,
   "metadata": {},
   "outputs": [],
   "source": [
    "from sklearn.preprocessing import StandardScaler\n",
    "\n",
    "scaler = StandardScaler()\n",
    "\n",
    "x = scaler.fit_transform(x)"
   ]
  },
  {
   "cell_type": "markdown",
   "metadata": {},
   "source": [
    "## 3. Perform 80/20 Data split for your X and Y matrix."
   ]
  },
  {
   "cell_type": "code",
   "execution_count": 226,
   "metadata": {},
   "outputs": [],
   "source": [
    "from sklearn.model_selection import train_test_split as tts\n",
    "\n",
    "X_train, X_test, y_train, y_test = tts(x, y, test_size=0.2)"
   ]
  },
  {
   "cell_type": "markdown",
   "metadata": {},
   "source": [
    "## 4. Provide data dimension for \n",
    "        1. train data\n",
    "        2. test data"
   ]
  },
  {
   "cell_type": "code",
   "execution_count": 227,
   "metadata": {},
   "outputs": [
    {
     "name": "stdout",
     "output_type": "stream",
     "text": [
      "X_train shape:  (6396, 20)\n",
      "y_train shape:  (6396,)\n",
      "X_test shape:  (1600, 20)\n",
      "y_test shape:  (1600,)\n"
     ]
    }
   ],
   "source": [
    "print(\"X_train shape: \", X_train.shape)\n",
    "print(\"y_train shape: \", y_train.shape)\n",
    "print(\"X_test shape: \", X_test.shape)\n",
    "print(\"y_test shape: \", y_test.shape)"
   ]
  },
  {
   "cell_type": "markdown",
   "metadata": {},
   "source": [
    "## 5. Define, build, predict the following classification learning algorithms\n",
    "        1. Logistic Regression\n",
    "        2. Classification Tree\n",
    "        3. Random Forest\n",
    "        4. Naive-Bayes Classification"
   ]
  },
  {
   "cell_type": "code",
   "execution_count": 228,
   "metadata": {},
   "outputs": [],
   "source": [
    "#import all algorithms\n",
    "from sklearn.linear_model import LogisticRegression\n",
    "from sklearn.tree import DecisionTreeClassifier\n",
    "from sklearn.ensemble import RandomForestClassifier\n",
    "from sklearn.naive_bayes import GaussianNB"
   ]
  },
  {
   "cell_type": "code",
   "execution_count": 229,
   "metadata": {},
   "outputs": [],
   "source": [
    "#Logistic Regression\n",
    "logistic_reg = LogisticRegression(C=1e6)\n",
    "\n",
    "logistic_reg.fit(X_train, y_train)\n",
    "\n",
    "logistic_predictions_train = logistic_reg.predict(X_train)\n",
    "logistic_predictions_test = logistic_reg.predict(X_test)"
   ]
  },
  {
   "cell_type": "code",
   "execution_count": 230,
   "metadata": {},
   "outputs": [],
   "source": [
    "#Decision Trees\n",
    "dt_classifier = DecisionTreeClassifier(random_state=0)\n",
    "\n",
    "dt_classifier.fit(X_train, y_train)\n",
    "\n",
    "dt_predictions_train = dt_classifier.predict(X_train)\n",
    "dt_predictions_test = dt_classifier.predict(X_test)"
   ]
  },
  {
   "cell_type": "code",
   "execution_count": 231,
   "metadata": {},
   "outputs": [],
   "source": [
    "#Random Forest\n",
    "rf_classifier = RandomForestClassifier(random_state=0)\n",
    "\n",
    "rf_classifier.fit(X_train, y_train)\n",
    "\n",
    "rf_predictions_train = rf_classifier.predict(X_train)\n",
    "rf_predictions_test = rf_classifier.predict(X_test)"
   ]
  },
  {
   "cell_type": "code",
   "execution_count": 232,
   "metadata": {},
   "outputs": [],
   "source": [
    "#Naive Bayes\n",
    "nb_classifier = GaussianNB()\n",
    "\n",
    "nb_classifier.fit(X_train, y_train)\n",
    "\n",
    "nb_predictions_train = nb_classifier.predict(X_train)\n",
    "nb_predictions_test = nb_classifier.predict(X_test)"
   ]
  },
  {
   "cell_type": "markdown",
   "metadata": {},
   "source": [
    "## 6. Print the performance of the above models in training and testing data"
   ]
  },
  {
   "cell_type": "code",
   "execution_count": 233,
   "metadata": {},
   "outputs": [],
   "source": [
    "#import accuracy metric\n",
    "from sklearn.metrics import accuracy_score"
   ]
  },
  {
   "cell_type": "code",
   "execution_count": 234,
   "metadata": {},
   "outputs": [
    {
     "name": "stdout",
     "output_type": "stream",
     "text": [
      "Logistic Regression train accuracy:  0.9052532833020638\n",
      "Logistic Regression test accuracy:  0.915625\n"
     ]
    }
   ],
   "source": [
    "#Logistic Regression\n",
    "accuracy_logistic_reg_train = accuracy_score(y_true=y_train, y_pred=logistic_predictions_train)\n",
    "accuracy_logistic_reg_test = accuracy_score(y_true=y_test, y_pred=logistic_predictions_test)\n",
    "print(\"Logistic Regression train accuracy: \", accuracy_logistic_reg_train)\n",
    "print(\"Logistic Regression test accuracy: \", accuracy_logistic_reg_test)"
   ]
  },
  {
   "cell_type": "code",
   "execution_count": 235,
   "metadata": {},
   "outputs": [
    {
     "name": "stdout",
     "output_type": "stream",
     "text": [
      "Decision Tree train accuracy:  1.0\n",
      "Decision Tree test accuracy:  0.956875\n"
     ]
    }
   ],
   "source": [
    "#Decision Tree\n",
    "accuracy_dt_train = accuracy_score(y_true=y_train, y_pred=dt_predictions_train)\n",
    "accuracy_dt_test = accuracy_score(y_true=y_test, y_pred=dt_predictions_test)\n",
    "print(\"Decision Tree train accuracy: \", accuracy_dt_train)\n",
    "print(\"Decision Tree test accuracy: \", accuracy_dt_test)"
   ]
  },
  {
   "cell_type": "code",
   "execution_count": 236,
   "metadata": {},
   "outputs": [
    {
     "name": "stdout",
     "output_type": "stream",
     "text": [
      "Random Forest train accuracy:  1.0\n",
      "Random Forest test accuracy:  0.963125\n"
     ]
    }
   ],
   "source": [
    "#Random Forest\n",
    "accuracy_rf_train = accuracy_score(y_true=y_train, y_pred=rf_predictions_train)\n",
    "accuracy_rf_test = accuracy_score(y_true=y_test, y_pred=rf_predictions_test)\n",
    "print(\"Random Forest train accuracy: \", accuracy_rf_train)\n",
    "print(\"Random Forest test accuracy: \", accuracy_rf_test)"
   ]
  },
  {
   "cell_type": "code",
   "execution_count": 237,
   "metadata": {},
   "outputs": [
    {
     "name": "stdout",
     "output_type": "stream",
     "text": [
      "Random Forest train accuracy:  0.8466228893058161\n",
      "Random Forest test accuracy:  0.8575\n"
     ]
    }
   ],
   "source": [
    "#Naive Bayes\n",
    "accuracy_nb_train = accuracy_score(y_true=y_train, y_pred=nb_predictions_train)\n",
    "accuracy_nb_test = accuracy_score(y_true=y_test, y_pred=nb_predictions_test)\n",
    "print(\"Random Forest train accuracy: \", accuracy_nb_train)\n",
    "print(\"Random Forest test accuracy: \", accuracy_nb_test)"
   ]
  }
 ],
 "metadata": {
  "interpreter": {
   "hash": "e304330cde09e27e1568fa377d5c59942e81145071ac67006de7f319629e71ea"
  },
  "kernelspec": {
   "display_name": "Python 3.9.7 64-bit",
   "name": "python3"
  },
  "language_info": {
   "codemirror_mode": {
    "name": "ipython",
    "version": 3
   },
   "file_extension": ".py",
   "mimetype": "text/x-python",
   "name": "python",
   "nbconvert_exporter": "python",
   "pygments_lexer": "ipython3",
   "version": "3.9.7"
  },
  "orig_nbformat": 4
 },
 "nbformat": 4,
 "nbformat_minor": 2
}
